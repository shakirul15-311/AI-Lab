{
 "cells": [
  {
   "cell_type": "markdown",
   "metadata": {},
   "source": [
    "### K mean Clustering\n",
    "#### Mohammad Shakirul Islam\n",
    "#### ID: 151-15-311"
   ]
  },
  {
   "cell_type": "code",
   "execution_count": 26,
   "metadata": {
    "collapsed": true
   },
   "outputs": [],
   "source": [
    "#import libraries\n",
    "import numpy as np\n",
    "import pandas as pd\n",
    "import matplotlib.pyplot as plt"
   ]
  },
  {
   "cell_type": "code",
   "execution_count": 27,
   "metadata": {
    "collapsed": false
   },
   "outputs": [
    {
     "data": {
      "image/png": "[encoded data removed]",
      "text/plain": [
       "<matplotlib.figure.Figure at 0x2217dbd86a0>"
      ]
     },
     "metadata": {},
     "output_type": "display_data"
    }
   ],
   "source": [
    "def dis(x1,y1,x2,y2):\n",
    "    a=np.sqrt((x1-x2)**2+(y1-y2)**2) #Distance\n",
    "    return a\n",
    "\n",
    "x1=[2.0,2.0,5.0,6.0,5.0,2.5] #Hypothetical data\n",
    "y1=[4.0,3.0,2.0,2.0,2.5,3.5]\n",
    "\n",
    "x=np.array(x1)\n",
    "y=np.array(y1)\n",
    "\n",
    "#rint(x)\n",
    "#rint(y)\n",
    "c1=np.array([2.0,4.0])\n",
    "c2=np.array([5.0,2.0])\n",
    "\n",
    "c1xx=[2.0]\n",
    "c1yy=[4.0]\n",
    "\n",
    "c2xx=[5.0]\n",
    "c2yy=[2.0]\n",
    "\n",
    "plt.scatter(x, y, c='black', s=7)\n",
    "plt.show()"
   ]
  },
  {
   "cell_type": "code",
   "execution_count": 28,
   "metadata": {
    "collapsed": false
   },
   "outputs": [
    {
     "name": "stdout",
     "output_type": "stream",
     "text": [
      "2.0  4.0\n",
      "5.0  2.0\n",
      "\n",
      "2.0  3.6666666666666665\n",
      "5.0  2.0\n",
      "\n",
      "2.0  3.6666666666666665\n",
      "5.0  2.0\n",
      "\n",
      "2.0  3.6666666666666665\n",
      "5.333333333333333  2.0\n",
      "\n",
      "2.0  3.6666666666666665\n",
      "5.25  2.125\n",
      "\n",
      "2.125  3.625\n",
      "5.25  2.125\n",
      "\n"
     ]
    },
    {
     "data": {
      "image/png": "[encoded data removed]",
      "text/plain": [
       "<matplotlib.figure.Figure at 0x2217dc849b0>"
      ]
     },
     "metadata": {},
     "output_type": "display_data"
    }
   ],
   "source": [
    "ite=int(len(x))\n",
    "\n",
    "for i in range(0,ite):\n",
    "    a=dis(c1[0],c1[1],x[i],y[i])\n",
    "    b=dis(c2[0],c2[1],x[i],y[i])\n",
    "    \n",
    "    if(a<b):\n",
    "        c1xx.append(x[i])\n",
    "        c1yy.append(y[i])\n",
    "        \n",
    "        c1x=np.array(c1xx)\n",
    "        c1y=np.array(c1yy)\n",
    "        \n",
    "        c1[0]=(c1x.sum())/(len(c1x))\n",
    "        c1[1]=(c1y.sum())/(len(c1y))\n",
    "    else:\n",
    "        c2xx.append(x[i])\n",
    "        c2yy.append(y[i])\n",
    "        \n",
    "        c2x=np.array(c2xx)\n",
    "        c2y=np.array(c2yy)\n",
    "        \n",
    "        c2[0]=(c2x.sum())/(len(c2x))\n",
    "        c2[1]=(c2y.sum())/(len(c2y))\n",
    "        \n",
    "    print(c1[0],\"\",c1[1])\n",
    "    print(c2[0],\"\",c2[1])\n",
    "    print()\n",
    "    \n",
    "    \n",
    "x1.append(c1[0])\n",
    "x1.append(c2[0])\n",
    " \n",
    "y1.append(c1[1])\n",
    "y1.append(c2[1])\n",
    " \n",
    "fx=[c1[0],c2[0]]\n",
    "fy=[c1[1],c2[1]]\n",
    " \n",
    "ffx=np.array(fx)\n",
    "ffy=np.array(fy)\n",
    " \n",
    "plt.scatter(x,y,c='b',s=50)\n",
    "plt.scatter(ffx,ffy,marker='>',c='g',s=300)\n",
    "plt.show()\n",
    " "
   ]
  },
  {
   "cell_type": "code",
   "execution_count": null,
   "metadata": {
    "collapsed": true
   },
   "outputs": [],
   "source": []
  }
 ],
 "metadata": {
  "kernelspec": {
   "display_name": "Python 3",
   "language": "python",
   "name": "python3"
  },
  "language_info": {
   "codemirror_mode": {
    "name": "ipython",
    "version": 3
   },
   "file_extension": ".py",
   "mimetype": "text/x-python",
   "name": "python",
   "nbconvert_exporter": "python",
   "pygments_lexer": "ipython3",
   "version": "3.6.0"
  }
 },
 "nbformat": 4,
 "nbformat_minor": 2
}

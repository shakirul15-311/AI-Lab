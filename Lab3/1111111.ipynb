{
 "cells": [
  {
   "cell_type": "code",
   "execution_count": 1,
   "metadata": {
    "collapsed": true
   },
   "outputs": [],
   "source": [
    "import os\n",
    "import numpy as np\n"
   ]
  },
  {
   "cell_type": "code",
   "execution_count": 15,
   "metadata": {
    "collapsed": true
   },
   "outputs": [],
   "source": [
    "x=np.array([0,0,1,1])\n",
    "x2=np.array([0,1,0,1])\n",
    "y=np.array([0,0,0,1])"
   ]
  },
  {
   "cell_type": "code",
   "execution_count": 16,
   "metadata": {
    "collapsed": true
   },
   "outputs": [],
   "source": [
    "theta1=0.3\n",
    "theta2=-0.1\n",
    "th=0.2\n",
    "n=0.1\n",
    "y_pred=None"
   ]
  },
  {
   "cell_type": "code",
   "execution_count": 28,
   "metadata": {},
   "outputs": [
    {
     "name": "stdout",
     "output_type": "stream",
     "text": [
      "0.2 -0.2\n",
      "0.2 -0.2\n",
      "0.2 -0.2\n",
      "0.2 -0.2\n",
      "0.2 -0.2\n"
     ]
    }
   ],
   "source": [
    "for i in range (0,5):\n",
    "    error = []\n",
    "    \n",
    "    for j in range(len(x)):\n",
    "        h=x[j]*theta1+x2[j]*theta2\n",
    "        if h < th:\n",
    "            h=0\n",
    "        else:\n",
    "            h=1\n",
    "        cost=y[0]-h\n",
    "        error.append(cost)\n",
    "        #print(h)\n",
    "        #print(error)\n",
    "    if error[0]==0 and error[1] == 0 and error[2] == 0 and error[3]==0:\n",
    "        print(theta1, theta2)\n",
    "    else:\n",
    "        theta1=theta1+n*x[j]*cost\n",
    "        theta2=theta2+n*x2[j]*cost\n",
    "        \n",
    "        print(theta1, theta2)\n",
    "    "
   ]
  },
  {
   "cell_type": "code",
   "execution_count": 26,
   "metadata": {},
   "outputs": [
    {
     "name": "stdout",
     "output_type": "stream",
     "text": [
      "[0]\n",
      "[0, 0]\n",
      "[0, 0, -1]\n",
      "[0, 0, -1, 1]\n",
      "[0]\n",
      "[0, 0]\n",
      "[0, 0, -1]\n",
      "[0, 0, -1, 0]\n",
      "[0]\n",
      "[0, 0]\n",
      "[0, 0, -1]\n",
      "[0, 0, -1, 0]\n",
      "[0]\n",
      "[0, 0]\n",
      "[0, 0, -1]\n",
      "[0, 0, -1, 0]\n",
      "[0]\n",
      "[0, 0]\n",
      "[0, 0, -1]\n",
      "[0, 0, -1, 0]\n"
     ]
    }
   ],
   "source": [
    "for i in range (0,5):\n",
    "    error = []\n",
    "\n",
    "    for j in range(len(x)):\n",
    "        h=x[j]*theta1+x2[j]*theta2\n",
    "        if h < th:\n",
    "            h=0\n",
    "        else:\n",
    "            h=1\n",
    "        cost=y[j]-h\n",
    "        error.append(cost)\n",
    "        print(error)\n",
    "    if error[0]==0 and error[1] == 0 and error[2] == 0 and error[3]==0:\n",
    "        print(theta1, theta2)\n",
    "        print('Done')\n",
    "        break\n",
    "    else:\n",
    "        theta1=theta1+n*x[j]*cost\n",
    "        theta2=theta2+n*x2[j]*cost"
   ]
  },
  {
   "cell_type": "code",
   "execution_count": null,
   "metadata": {
    "collapsed": true
   },
   "outputs": [],
   "source": []
  }
 ],
 "metadata": {
  "kernelspec": {
   "display_name": "Python 3",
   "language": "python",
   "name": "python3"
  },
  "language_info": {
   "codemirror_mode": {
    "name": "ipython",
    "version": 3
   },
   "file_extension": ".py",
   "mimetype": "text/x-python",
   "name": "python",
   "nbconvert_exporter": "python",
   "pygments_lexer": "ipython3",
   "version": "3.6.3"
  }
 },
 "nbformat": 4,
 "nbformat_minor": 2
}

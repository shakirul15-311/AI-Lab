{
 "cells": [
  {
   "cell_type": "raw",
   "metadata": {},
   "source": [
    "Gradient Descent \n",
    "Mohammad Shakirul Islam\n",
    "ID: 151-15-311"
   ]
  },
  {
   "cell_type": "code",
   "execution_count": 105,
   "metadata": {
    "collapsed": true
   },
   "outputs": [],
   "source": [
    "#Import libraries\n",
    "import numpy as np\n",
    "import pandas as pd"
   ]
  },
  {
   "cell_type": "code",
   "execution_count": 106,
   "metadata": {
    "collapsed": true
   },
   "outputs": [],
   "source": [
    "x1 = [0, 0,1, 1]\n",
    "x2 = [0, 1, 0, 1]\n",
    "y = [0, 0, 0, 1]\n",
    "\n",
    "#Theta ,𝜃1 ,𝜃2 \n",
    "\n",
    "t1 = 0.3\n",
    "t2 = -0.1\n",
    "\n",
    "n = 0.1 #Learning Rate\n",
    "Th = 0.2 #Threshold Value"
   ]
  },
  {
   "cell_type": "code",
   "execution_count": 110,
   "metadata": {
    "collapsed": false
   },
   "outputs": [
    {
     "name": "stdout",
     "output_type": "stream",
     "text": [
      "-------------------------------------------------------------------------------\n",
      "                                    Epoch: 1\n",
      "-------------------------------------------------------------------------------\n",
      "Input: 0 0 Output: 0 Old Weight: 0.1 0.1 Output:  0 Cost: 0 New Weight: 0.1 0.1\n",
      "Input: 0 1 Output: 0 Old Weight: 0.1 0.1 Output:  0 Cost: 0 New Weight: 0.1 0.1\n",
      "Input: 1 0 Output: 0 Old Weight: 0.1 0.1 Output:  0 Cost: 0 New Weight: 0.1 0.1\n",
      "Input: 1 1 Output: 1 Old Weight: 0.1 0.1 Output:  1 Cost: 0 New Weight: 0.1 0.1\n",
      "-------------------------------------------------------------------------------\n",
      "                                    Epoch: 2\n",
      "-------------------------------------------------------------------------------\n",
      "Input: 0 0 Output: 0 Old Weight: 0.1 0.1 Output:  0 Cost: 0 New Weight: 0.1 0.1\n",
      "Input: 0 1 Output: 0 Old Weight: 0.1 0.1 Output:  0 Cost: 0 New Weight: 0.1 0.1\n",
      "Input: 1 0 Output: 0 Old Weight: 0.1 0.1 Output:  0 Cost: 0 New Weight: 0.1 0.1\n",
      "Input: 1 1 Output: 1 Old Weight: 0.1 0.1 Output:  1 Cost: 0 New Weight: 0.1 0.1\n",
      "-------------------------------------------------------------------------------\n",
      "                                    Epoch: 3\n",
      "-------------------------------------------------------------------------------\n",
      "Input: 0 0 Output: 0 Old Weight: 0.1 0.1 Output:  0 Cost: 0 New Weight: 0.1 0.1\n",
      "Input: 0 1 Output: 0 Old Weight: 0.1 0.1 Output:  0 Cost: 0 New Weight: 0.1 0.1\n",
      "Input: 1 0 Output: 0 Old Weight: 0.1 0.1 Output:  0 Cost: 0 New Weight: 0.1 0.1\n",
      "Input: 1 1 Output: 1 Old Weight: 0.1 0.1 Output:  1 Cost: 0 New Weight: 0.1 0.1\n",
      "-------------------------------------------------------------------------------\n",
      "                                    Epoch: 4\n",
      "-------------------------------------------------------------------------------\n",
      "Input: 0 0 Output: 0 Old Weight: 0.1 0.1 Output:  0 Cost: 0 New Weight: 0.1 0.1\n",
      "Input: 0 1 Output: 0 Old Weight: 0.1 0.1 Output:  0 Cost: 0 New Weight: 0.1 0.1\n",
      "Input: 1 0 Output: 0 Old Weight: 0.1 0.1 Output:  0 Cost: 0 New Weight: 0.1 0.1\n",
      "Input: 1 1 Output: 1 Old Weight: 0.1 0.1 Output:  1 Cost: 0 New Weight: 0.1 0.1\n",
      "-------------------------------------------------------------------------------\n",
      "                                    Epoch: 5\n",
      "-------------------------------------------------------------------------------\n",
      "Input: 0 0 Output: 0 Old Weight: 0.1 0.1 Output:  0 Cost: 0 New Weight: 0.1 0.1\n",
      "Input: 0 1 Output: 0 Old Weight: 0.1 0.1 Output:  0 Cost: 0 New Weight: 0.1 0.1\n",
      "Input: 1 0 Output: 0 Old Weight: 0.1 0.1 Output:  0 Cost: 0 New Weight: 0.1 0.1\n",
      "Input: 1 1 Output: 1 Old Weight: 0.1 0.1 Output:  1 Cost: 0 New Weight: 0.1 0.1\n"
     ]
    }
   ],
   "source": [
    "for i in range(5):\n",
    "    print('-'*79)\n",
    "    print(' '*35,'Epoch:', i+1)\n",
    "    print('-'*79)\n",
    "    error = []\n",
    "    temp = []\n",
    "    for j in range(len(x1)):\n",
    "        h= np.dot(x[j],t1)+ np.dot(x2[j],t2) # Predict Y value according to hypothesis\n",
    "                                        \n",
    "        if h < Th:  # h = Hypothesis\n",
    "            h = 0\n",
    "        else:\n",
    "            h = 1\n",
    "        cost=y[j]-h # Cost Function\n",
    "        temp.append(h)\n",
    "        error.append(cost)\n",
    "        if temp == y:\n",
    "            \n",
    "            print( 'Input:', x1[j], x2[j],'Output:', y[j],\n",
    "                  'Old Weight:', t1_temp, t2_temp,'Output: ',h,\n",
    "                  'Cost:', cost, 'New Weight:', t1, t2)\n",
    "            break\n",
    "        else:\n",
    "            t1_temp = t1\n",
    "            # Updating the weights w1 and w2\n",
    "            \n",
    "            t1 = t1 + n * x1[j] * cost\n",
    "            t1 = float(\"{0:.2f}\".format(t1))\n",
    "                    \n",
    "            t2_temp = t2\n",
    "            t2 = t2 + n * x2[j] * cost\n",
    "            t2 = float(\"{0:.2f}\".format(t2))\n",
    "        print( 'Input:', x1[j], x2[j],'Output:', y[j], \n",
    "              'Old Weight:', t1_temp, t2_temp,'Output: ', h,\n",
    "              'Cost:', cost, 'New Weight:', t1, t2)"
   ]
  },
  {
   "cell_type": "code",
   "execution_count": null,
   "metadata": {
    "collapsed": true
   },
   "outputs": [],
   "source": []
  },
  {
   "cell_type": "markdown",
   "metadata": {},
   "source": [
    "16 feb 2018"
   ]
  }
 ],
 "metadata": {
  "kernelspec": {
   "display_name": "Python 3",
   "language": "python",
   "name": "python3"
  },
  "language_info": {
   "codemirror_mode": {
    "name": "ipython",
    "version": 3
   },
   "file_extension": ".py",
   "mimetype": "text/x-python",
   "name": "python",
   "nbconvert_exporter": "python",
   "pygments_lexer": "ipython3",
   "version": "3.6.0"
  }
 },
 "nbformat": 4,
 "nbformat_minor": 2
}

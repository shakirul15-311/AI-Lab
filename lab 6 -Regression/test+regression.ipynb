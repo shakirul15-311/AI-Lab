{
 "cells": [
  {
   "cell_type": "code",
   "execution_count": 3,
   "metadata": {
    "collapsed": true
   },
   "outputs": [],
   "source": [
    "import numpy as np\n",
    "import pandas as pd\n",
    "import matplotlib.pyplot as plt"
   ]
  },
  {
   "cell_type": "code",
   "execution_count": 9,
   "metadata": {
    "collapsed": true
   },
   "outputs": [],
   "source": [
    "d=pd.read_csv(\"test.csv\")\n",
    "\n",
    "x1=d['x']\n",
    "y1=d['y']\n",
    "\n",
    "x=np.array(x1)\n",
    "y=np.array(y1)\n",
    "\n",
    "x_bar=x.mean()\n",
    "y_bar=y.mean()\n",
    "\n",
    "xxyy=x*y\n",
    " \n",
    "xy=np.array(xxyy)\n",
    "xy_bar=xy.mean()\n",
    " \n",
    "x_bar_2=x_bar**2\n",
    " \n",
    "x_2=(x**2)\n",
    "x_2_bar=x_2.mean()"
   ]
  },
  {
   "cell_type": "code",
   "execution_count": 10,
   "metadata": {},
   "outputs": [
    {
     "name": "stdout",
     "output_type": "stream",
     "text": [
      "1.01433535512\n",
      "-0.461810773661\n"
     ]
    }
   ],
   "source": [
    "m=((x_bar * y_bar ) - xy_bar ) / (x_bar_2 - x_2_bar)\n",
    " \n",
    " \n",
    "c=y_bar -(m * x_bar )\n",
    " \n",
    " \n",
    "print(m)\n",
    "print (c)\n",
    "l=len(x)"
   ]
  },
  {
   "cell_type": "code",
   "execution_count": 11,
   "metadata": {},
   "outputs": [
    {
     "data": {
      "image/png": "[encoded data removed]",
      "text/plain": [
       "<matplotlib.figure.Figure at 0xe65eb1ec50>"
      ]
     },
     "metadata": {},
     "output_type": "display_data"
    }
   ],
   "source": [
    "yyy=[]\n",
    "for i in range(l):\n",
    "    yyy.append(m*x[i]+c)\n",
    "y_y=np.array(yyy)\n",
    "\n",
    "plt.plot(x,y_y,c='r')\n",
    "plt.scatter(x,y)\n",
    "plt.show()"
   ]
  },
  {
   "cell_type": "code",
   "execution_count": null,
   "metadata": {
    "collapsed": true
   },
   "outputs": [],
   "source": []
  }
 ],
 "metadata": {
  "kernelspec": {
   "display_name": "Python 3",
   "language": "python",
   "name": "python3"
  },
  "language_info": {
   "codemirror_mode": {
    "name": "ipython",
    "version": 3
   },
   "file_extension": ".py",
   "mimetype": "text/x-python",
   "name": "python",
   "nbconvert_exporter": "python",
   "pygments_lexer": "ipython3",
   "version": "3.6.3"
  }
 },
 "nbformat": 4,
 "nbformat_minor": 2
}

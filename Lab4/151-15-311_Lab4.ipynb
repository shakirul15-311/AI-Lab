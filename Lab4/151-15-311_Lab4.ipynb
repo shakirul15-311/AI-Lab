{
 "cells": [
  {
   "cell_type": "markdown",
   "metadata": {},
   "source": [
    "# KNN Manual Implementation"
   ]
  },
  {
   "cell_type": "markdown",
   "metadata": {},
   "source": [
    "Mohammad Shakirul Islam | 151-15-311 | 23 feb 2018"
   ]
  },
  {
   "cell_type": "code",
   "execution_count": 80,
   "metadata": {
    "collapsed": false
   },
   "outputs": [],
   "source": [
    "# import libraries\n",
    "import pandas as pd\n",
    "import numpy as np\n",
    "import matplotlib.pyplot as plt\n",
    "from sklearn.model_selection import train_test_split\n",
    "from scipy.spatial import distance\n",
    "from sklearn.metrics import accuracy_score\n",
    "from sklearn.neighbors import KNeighborsClassifier"
   ]
  },
  {
   "cell_type": "code",
   "execution_count": 81,
   "metadata": {
    "collapsed": true
   },
   "outputs": [],
   "source": [
    "# read data file as dataframe\n",
    "data = pd.read_csv('iris.csv')"
   ]
  },
  {
   "cell_type": "code",
   "execution_count": 82,
   "metadata": {
    "collapsed": true
   },
   "outputs": [],
   "source": [
    "#take four numeric features as X input\n",
    "X = data.values[:, :4]"
   ]
  },
  {
   "cell_type": "code",
   "execution_count": 83,
   "metadata": {
    "collapsed": true
   },
   "outputs": [],
   "source": [
    "#create an array of length 150 named y\n",
    "y = np.zeros(150)"
   ]
  },
  {
   "cell_type": "code",
   "execution_count": 84,
   "metadata": {
    "collapsed": true
   },
   "outputs": [],
   "source": [
    "#encoding classes to numbers\n",
    "for i in range(len(y)):\n",
    "    if data.values[i, 4]=='setosa':\n",
    "        y[i] = 0\n",
    "    elif data.values[i, 4]=='versicolor':\n",
    "        y[i] = 1\n",
    "    elif data.values[i, 4]=='virginica':\n",
    "        y[i] = 2"
   ]
  },
  {
   "cell_type": "code",
   "execution_count": 85,
   "metadata": {
    "collapsed": true
   },
   "outputs": [],
   "source": [
    "#randomly shuffle the whole dataset and create train-test partition\n",
    "X_train, X_test, y_train, y_test = train_test_split(X, y, test_size=0.33, random_state=42)"
   ]
  },
  {
   "cell_type": "code",
   "execution_count": 86,
   "metadata": {
    "collapsed": false
   },
   "outputs": [
    {
     "name": "stdout",
     "output_type": "stream",
     "text": [
      "(50, 100)\n"
     ]
    }
   ],
   "source": [
    "# Distance matrix\n",
    "d=distance.cdist(X_test,X_train,'euclidean')\n",
    "print(d.shape)"
   ]
  },
  {
   "cell_type": "code",
   "execution_count": 87,
   "metadata": {
    "collapsed": false
   },
   "outputs": [
    {
     "data": {
      "text/plain": [
       "0.97999999999999998"
      ]
     },
     "execution_count": 87,
     "metadata": {},
     "output_type": "execute_result"
    }
   ],
   "source": [
    "for i in range(50):\n",
    "    y1=np.argsort(d,axis=1)\n",
    "\n",
    "#print(y)\n",
    "k=int(3)\n",
    "y_pred=[]\n",
    "j=int(0)\n",
    "\n",
    "for j in range(0,50):\n",
    "    y3=np.zeros(3)\n",
    "    for i in range(0,3):\n",
    "        ind=int(y1[j][i])\n",
    "        val=int(y_train[ind])\n",
    "        y3[val]+=1\n",
    "        \n",
    "    y_pred.append(np.argmax(y3, axis=0))\n",
    "    \n",
    "accuracy_score(y_test, y_pred)"
   ]
  },
  {
   "cell_type": "raw",
   "metadata": {},
   "source": []
  },
  {
   "cell_type": "markdown",
   "metadata": {},
   "source": []
  },
  {
   "cell_type": "markdown",
   "metadata": {},
   "source": [
    "### Plot K VS Accuracy graph (Line Plot) for K = 1, 3, 5, 7, 9, 11, 13, 15"
   ]
  },
  {
   "cell_type": "code",
   "execution_count": 96,
   "metadata": {
    "collapsed": false
   },
   "outputs": [
    {
     "data": {
      "image/png": "[encoded data removed]",
      "text/plain": [
       "<matplotlib.figure.Figure at 0x1c8af516dd8>"
      ]
     },
     "metadata": {},
     "output_type": "display_data"
    }
   ],
   "source": [
    "k3=np.array([1, 3, 5, 7, 9, 11, 13, 15])\n",
    "r=int(0)\n",
    "rs=[]\n",
    "for k2 in k3:\n",
    "    y_pred=[]\n",
    "    for j in range(0,50):\n",
    "        y3=np.zeros(3)\n",
    "        for i in range (0,k2):\n",
    "            ind1=int(yy[j][i])\n",
    "            val=int(y_train[ind1])\n",
    "            y3[val]+=1\n",
    "            \n",
    "        y_pred.append(np.argmax(y3,axis=0))\n",
    "    rs.append(accuracy_score(y_test,y_pred))\n",
    "\n",
    "rst=np.array(rs)\n",
    "plt.xlabel(\"Accuracy \",color='b')\n",
    "plt.ylabel(\"Value of K\",color='b')\n",
    "plt.plot(rst,k3,color = 'c')\n",
    "plt.show()"
   ]
  },
  {
   "cell_type": "raw",
   "metadata": {},
   "source": []
  }
 ],
 "metadata": {
  "kernelspec": {
   "display_name": "Python 3",
   "language": "python",
   "name": "python3"
  },
  "language_info": {
   "codemirror_mode": {
    "name": "ipython",
    "version": 3
   },
   "file_extension": ".py",
   "mimetype": "text/x-python",
   "name": "python",
   "nbconvert_exporter": "python",
   "pygments_lexer": "ipython3",
   "version": "3.6.0"
  }
 },
 "nbformat": 4,
 "nbformat_minor": 2
}

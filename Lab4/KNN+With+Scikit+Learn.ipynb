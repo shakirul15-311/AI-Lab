{
 "cells": [
  {
   "cell_type": "markdown",
   "metadata": {},
   "source": [
    "# KNN With Scikit Learn"
   ]
  },
  {
   "cell_type": "code",
   "execution_count": 110,
   "metadata": {
    "collapsed": true
   },
   "outputs": [],
   "source": [
    "# import libraries\n",
    "import pandas as pd\n",
    "import numpy as np\n",
    "from sklearn.model_selection import train_test_split\n",
    "from scipy.spatial import distance\n",
    "from sklearn.metrics import accuracy_score\n",
    "from sklearn.neighbors import KNeighborsClassifier"
   ]
  },
  {
   "cell_type": "code",
   "execution_count": 111,
   "metadata": {
    "collapsed": true
   },
   "outputs": [],
   "source": [
    "# read data file as dataframe\n",
    "data = pd.read_csv('iris.csv')"
   ]
  },
  {
   "cell_type": "code",
   "execution_count": 112,
   "metadata": {
    "collapsed": true
   },
   "outputs": [],
   "source": [
    "#take four numeric features as X input\n",
    "X = data.values[:, :4]"
   ]
  },
  {
   "cell_type": "code",
   "execution_count": 113,
   "metadata": {
    "collapsed": true
   },
   "outputs": [],
   "source": [
    "#create an array of length 150 named y\n",
    "y = np.zeros(150)"
   ]
  },
  {
   "cell_type": "code",
   "execution_count": 114,
   "metadata": {
    "collapsed": true
   },
   "outputs": [],
   "source": [
    "#encoding classes to numbers\n",
    "for i in range(len(y)):\n",
    "    if data.values[i, 4]=='setosa':\n",
    "        y[i] = 0\n",
    "    elif data.values[i, 4]=='versicolor':\n",
    "        y[i] = 1\n",
    "    elif data.values[i, 4]=='virginica':\n",
    "        y[i] = 2"
   ]
  },
  {
   "cell_type": "code",
   "execution_count": 115,
   "metadata": {},
   "outputs": [],
   "source": [
    "#randomly shuffle the whole dataset and create train-test partition\n",
    "X_train, X_test, y_train, y_test = train_test_split(X, y, test_size=0.33, random_state=42)"
   ]
  },
  {
   "cell_type": "markdown",
   "metadata": {},
   "source": [
    "# Distance matrix"
   ]
  },
  {
   "cell_type": "code",
   "execution_count": 116,
   "metadata": {},
   "outputs": [
    {
     "name": "stdout",
     "output_type": "stream",
     "text": [
      "(50, 100)\n"
     ]
    }
   ],
   "source": [
    "d=distance.cdist(X_test,X_train,'euclidean')\n",
    "print(d.shape)"
   ]
  },
  {
   "cell_type": "code",
   "execution_count": 126,
   "metadata": {},
   "outputs": [
    {
     "data": {
      "text/plain": [
       "0.97999999999999998"
      ]
     },
     "execution_count": 126,
     "metadata": {},
     "output_type": "execute_result"
    }
   ],
   "source": [
    "for i in range(50):\n",
    "    yy=np.argsort(d,axis=1)\n",
    "    #print(y)\n",
    "k=int(3)\n",
    "y_pre=[]\n",
    "j=int(0)\n",
    "for j in range(0,50):\n",
    "    yyy=np.zeros(3)\n",
    "    \n",
    "    for i in range(0,3):\n",
    "        ind=int(yy[0][i])\n",
    "        val=int(y_train[ind])\n",
    "        yyy[val]+=1\n",
    "        \n",
    "    y_pre.append(np.argmax(yyy, axis=0))\n",
    "    \n",
    "accuracy_score(y_test, y_predict)\n",
    "\n",
    "\n",
    "    "
   ]
  },
  {
   "cell_type": "code",
   "execution_count": null,
   "metadata": {},
   "outputs": [],
   "source": [
    "# #create KNN Model\n",
    "# KNN_model = KNeighborsClassifier(n_neighbors=3)\n",
    "\n",
    "# #train the model to fit parameters\n",
    "# KNN_model.fit(X_train, y_train)\n",
    "\n",
    "# #predict y(class) values of all X_test values\n",
    "# y_predict = KNN_model.predict(X_test)\n",
    "\n",
    "# #accuracy calculation\n",
    "# accuracy_score(y_test, y_predict)"
   ]
  },
  {
   "cell_type": "code",
   "execution_count": null,
   "metadata": {
    "collapsed": true
   },
   "outputs": [],
   "source": []
  }
 ],
 "metadata": {
  "kernelspec": {
   "display_name": "Python 3",
   "language": "python",
   "name": "python3"
  },
  "language_info": {
   "codemirror_mode": {
    "name": "ipython",
    "version": 3
   },
   "file_extension": ".py",
   "mimetype": "text/x-python",
   "name": "python",
   "nbconvert_exporter": "python",
   "pygments_lexer": "ipython3",
   "version": "3.6.3"
  }
 },
 "nbformat": 4,
 "nbformat_minor": 2
}

{
 "cells": [
  {
   "cell_type": "code",
   "execution_count": 153,
   "metadata": {
    "collapsed": true
   },
   "outputs": [],
   "source": [
    "import numpy as np\n",
    "import pandas as pd"
   ]
  },
  {
   "cell_type": "code",
   "execution_count": 154,
   "metadata": {
    "collapsed": true
   },
   "outputs": [],
   "source": [
    "out=np.array([0,0,1,0,1,1,0]) #sunny=0, cloudy=1\n",
    "temp=np.array([0,1,1,1,0,0,0]) #cold=0, warm=1\n",
    "rtn=np.array([0,1,0,0,0,1,1]) #indoor=0, outdoor= 1\n",
    "cot=np.array([0,0,0,0,1,1,1]) #no=0, yes=1"
   ]
  },
  {
   "cell_type": "code",
   "execution_count": 155,
   "metadata": {
    "collapsed": false
   },
   "outputs": [
    {
     "data": {
      "text/plain": [
       "7"
      ]
     },
     "execution_count": 155,
     "metadata": {},
     "output_type": "execute_result"
    }
   ],
   "source": [
    "out.size\n",
    "temp.size\n",
    "rtn.size\n",
    "cot.size"
   ]
  },
  {
   "cell_type": "markdown",
   "metadata": {},
   "source": [
    "## X_yes "
   ]
  },
  {
   "cell_type": "code",
   "execution_count": 156,
   "metadata": {
    "collapsed": false
   },
   "outputs": [
    {
     "name": "stdout",
     "output_type": "stream",
     "text": [
      "[1 1 1]\n",
      "(array([0, 1, 2], dtype=int64),)\n",
      "3\n"
     ]
    }
   ],
   "source": [
    "c1=cot[4:7]\n",
    "print(c1)\n",
    "c1.size\n",
    "x1=np.where(c1==1)\n",
    "print(x1)\n",
    "x1_size=len(x1[0])\n",
    "print(x1_size)\n"
   ]
  },
  {
   "cell_type": "code",
   "execution_count": 157,
   "metadata": {
    "collapsed": false
   },
   "outputs": [
    {
     "name": "stdout",
     "output_type": "stream",
     "text": [
      "[1 1 0]\n",
      "(array([0, 1], dtype=int64),)\n",
      "2\n"
     ]
    }
   ],
   "source": [
    "o1 = out[4:7]\n",
    "print(o1)\n",
    "o1.size\n",
    "a1 = np.where(o1 == 1)\n",
    "print(a1)\n",
    "a1_size=len(a[0])\n",
    "print(a1_size)"
   ]
  },
  {
   "cell_type": "code",
   "execution_count": 158,
   "metadata": {
    "collapsed": false
   },
   "outputs": [
    {
     "name": "stdout",
     "output_type": "stream",
     "text": [
      "[0 0 0]\n",
      "(array([], dtype=int64),)\n",
      "0\n"
     ]
    }
   ],
   "source": [
    "t1 = temp[4:7]\n",
    "print(t1)\n",
    "t1.size\n",
    "b1 = np.where(t1 == 1)\n",
    "print(b1)\n",
    "b1_size=len(b1[0])\n",
    "print(b1_size)"
   ]
  },
  {
   "cell_type": "code",
   "execution_count": 159,
   "metadata": {
    "collapsed": false
   },
   "outputs": [
    {
     "name": "stdout",
     "output_type": "stream",
     "text": [
      "[0 1 1]\n",
      "(array([1, 2], dtype=int64),)\n",
      "2\n"
     ]
    }
   ],
   "source": [
    "r1 = rtn[4:7]\n",
    "print(r1)\n",
    "r1.size\n",
    "d1 = np.where(r1 == 1)\n",
    "print(d1)\n",
    "d1_size=len(d1[0])\n",
    "print(d1_size)"
   ]
  },
  {
   "cell_type": "code",
   "execution_count": 160,
   "metadata": {
    "collapsed": false
   },
   "outputs": [
    {
     "name": "stdout",
     "output_type": "stream",
     "text": [
      "0.0\n"
     ]
    }
   ],
   "source": [
    "X_yes=((a1_size/o1.size)*(b1_size/t1.size)*(d1_size/r1.size)*(x1_size/cot.size))/((o1.size/rtn.size)*(t1.size/temp.size)*(r1.size/rtn.size))\n",
    "\n",
    "print(X_yes)"
   ]
  },
  {
   "cell_type": "markdown",
   "metadata": {},
   "source": [
    "## X_no"
   ]
  },
  {
   "cell_type": "code",
   "execution_count": 161,
   "metadata": {
    "collapsed": false
   },
   "outputs": [
    {
     "name": "stdout",
     "output_type": "stream",
     "text": [
      "[0 0 0 0]\n",
      "(array([0, 1, 2, 3], dtype=int64),)\n",
      "4\n"
     ]
    }
   ],
   "source": [
    "c0=cot[0:4]\n",
    "print(c0)\n",
    "c0.size\n",
    "x0=np.where(c0==0)\n",
    "print(x0)\n",
    "x0_size=len(x0[0])\n",
    "print(x0_size)"
   ]
  },
  {
   "cell_type": "code",
   "execution_count": 162,
   "metadata": {
    "collapsed": false
   },
   "outputs": [
    {
     "name": "stdout",
     "output_type": "stream",
     "text": [
      "[0 0 1 0]\n",
      "4\n",
      "(array([0, 1, 3], dtype=int64),)\n",
      "3\n"
     ]
    }
   ],
   "source": [
    "o0 = out[0:4]\n",
    "print(o0)\n",
    "print(o0.size)\n",
    "\n",
    "a0 = np.where(o0 == 0)\n",
    "print(a0)\n",
    "a0_size=len(a0[0])\n",
    "print(a0_size)"
   ]
  },
  {
   "cell_type": "code",
   "execution_count": 163,
   "metadata": {
    "collapsed": false
   },
   "outputs": [
    {
     "name": "stdout",
     "output_type": "stream",
     "text": [
      "[0 1 1 1]\n",
      "4\n",
      "(array([0], dtype=int64),)\n",
      "1\n"
     ]
    }
   ],
   "source": [
    "t0 = temp[0:4]\n",
    "print(t0)\n",
    "print(t0.size)\n",
    "\n",
    "b0 = np.where(t0 == 0)\n",
    "print(b0)\n",
    "b0_size=len(b0[0])\n",
    "print(b0_size)"
   ]
  },
  {
   "cell_type": "code",
   "execution_count": 164,
   "metadata": {
    "collapsed": false
   },
   "outputs": [
    {
     "name": "stdout",
     "output_type": "stream",
     "text": [
      "[0 1 0 0]\n",
      "4\n",
      "(array([0, 2, 3], dtype=int64),)\n",
      "3\n"
     ]
    }
   ],
   "source": [
    "r0 = rtn[0:4]\n",
    "print(r0)\n",
    "print(r0.size)\n",
    "\n",
    "d0 = np.where(r0 == 0)\n",
    "print(d0)\n",
    "d0_size=len(d0[0])\n",
    "print(d0_size)"
   ]
  },
  {
   "cell_type": "code",
   "execution_count": 165,
   "metadata": {
    "collapsed": false
   },
   "outputs": [
    {
     "name": "stdout",
     "output_type": "stream",
     "text": [
      "0.43066406250000006\n"
     ]
    }
   ],
   "source": [
    "X_no=((a0_size/o0.size)*(b0_size/t0.size)*(d0_size/r0.size)*(x0_size/cot.size))/((o0.size/rtn.size)*(t0.size/temp.size)*(r0.size/rtn.size))\n",
    "\n",
    "print(X_no)"
   ]
  },
  {
   "cell_type": "code",
   "execution_count": null,
   "metadata": {
    "collapsed": true
   },
   "outputs": [],
   "source": []
  }
 ],
 "metadata": {
  "kernelspec": {
   "display_name": "Python 3",
   "language": "python",
   "name": "python3"
  },
  "language_info": {
   "codemirror_mode": {
    "name": "ipython",
    "version": 3
   },
   "file_extension": ".py",
   "mimetype": "text/x-python",
   "name": "python",
   "nbconvert_exporter": "python",
   "pygments_lexer": "ipython3",
   "version": "3.6.0"
  }
 },
 "nbformat": 4,
 "nbformat_minor": 2
}

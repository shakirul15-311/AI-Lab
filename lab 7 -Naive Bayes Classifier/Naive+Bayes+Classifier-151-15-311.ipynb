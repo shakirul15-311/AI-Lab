{
 "cells": [
  {
   "cell_type": "markdown",
   "metadata": {},
   "source": [
    "###         Mohammad Shakirul Islam\n",
    "###               ID: 151-15-311"
   ]
  },
  {
   "cell_type": "code",
   "execution_count": 280,
   "metadata": {
    "collapsed": true
   },
   "outputs": [],
   "source": [
    "import numpy as np"
   ]
  },
  {
   "cell_type": "code",
   "execution_count": 281,
   "metadata": {
    "collapsed": true
   },
   "outputs": [],
   "source": [
    "out=np.array([0,0,1,0,1,1,0]) #sunny=0, cloudy=1\n",
    "temp=np.array([0,1,1,1,0,0,0]) #cold=0, warm=1\n",
    "rtn=np.array([0,1,0,0,0,1,1]) #indoor=0, outdoor= 1\n",
    "cot=np.array([0,0,0,0,1,1,1]) #no=0, yes=1"
   ]
  },
  {
   "cell_type": "code",
   "execution_count": 282,
   "metadata": {
    "collapsed": false
   },
   "outputs": [
    {
     "name": "stdout",
     "output_type": "stream",
     "text": [
      "Outlook: 7 | Temp: 7 | Routine: 7 | Coat: 7\n"
     ]
    }
   ],
   "source": [
    "print('Outlook:',out.size,'| Temp:',temp.size ,'| Routine:',rtn.size,'| Coat:',cot.size)\n",
    "#arr.size = len"
   ]
  },
  {
   "cell_type": "markdown",
   "metadata": {},
   "source": [
    "##                                               P( C =yes | x )"
   ]
  },
  {
   "cell_type": "code",
   "execution_count": 283,
   "metadata": {
    "collapsed": false
   },
   "outputs": [
    {
     "name": "stdout",
     "output_type": "stream",
     "text": [
      "[[4]\n",
      " [5]\n",
      " [6]]\n"
     ]
    }
   ],
   "source": [
    "c11 = np.transpose(np.nonzero(cot)) \n",
    "print(c11)"
   ]
  },
  {
   "cell_type": "code",
   "execution_count": 284,
   "metadata": {
    "collapsed": false
   },
   "outputs": [],
   "source": [
    "o1=out[4:]\n",
    "t1=temp[4:]\n",
    "r1=rtn[4:]"
   ]
  },
  {
   "cell_type": "code",
   "execution_count": 285,
   "metadata": {
    "collapsed": false
   },
   "outputs": [
    {
     "data": {
      "text/plain": [
       "3"
      ]
     },
     "execution_count": 285,
     "metadata": {},
     "output_type": "execute_result"
    }
   ],
   "source": [
    "o11 =np.argwhere(o1==1) #print(o11)\n",
    "#len(o11)\n",
    "\n",
    "t11 =np.argwhere(t1==1)\n",
    "#print(t11)\n",
    "#len(t11)\n",
    "\n",
    "r11 =np.argwhere(r1==1)\n",
    "#print(r11)\n",
    "o111 = np.argwhere(out==1)\n",
    "t111 = np.argwhere(temp==1)\n",
    "r111 = np.argwhere(rtn==1)\n",
    "len(r111)"
   ]
  },
  {
   "cell_type": "code",
   "execution_count": 286,
   "metadata": {
    "collapsed": false
   },
   "outputs": [
    {
     "name": "stdout",
     "output_type": "stream",
     "text": [
      "P( C =yes | x ) =  0.0\n"
     ]
    }
   ],
   "source": [
    "C_yes = ((o11.size/o1.size)*(t11.size/t1.size)*(r11.size/r1.size)*(c11.size/cot.size)) / ((o111.size/out.size)*(t111.size/temp.size)*(r111.size/rtn.size))\n",
    "print(\"P( C =yes | x ) = \",C_yes)"
   ]
  },
  {
   "cell_type": "raw",
   "metadata": {},
   "source": [
    "------------------------------------------------------------------------------------------------------"
   ]
  },
  {
   "cell_type": "markdown",
   "metadata": {},
   "source": [
    "##                                               P( C =no | x )"
   ]
  },
  {
   "cell_type": "code",
   "execution_count": 287,
   "metadata": {
    "collapsed": false
   },
   "outputs": [
    {
     "name": "stdout",
     "output_type": "stream",
     "text": [
      "[[0]\n",
      " [1]\n",
      " [2]\n",
      " [3]]\n"
     ]
    }
   ],
   "source": [
    "c22 = np.argwhere(cot == 0)\n",
    "print(c22)"
   ]
  },
  {
   "cell_type": "code",
   "execution_count": 288,
   "metadata": {
    "collapsed": false
   },
   "outputs": [
    {
     "name": "stdout",
     "output_type": "stream",
     "text": [
      "[0 0 1 0]\n"
     ]
    }
   ],
   "source": [
    "o2=out[:4]\n",
    "print(o2)"
   ]
  },
  {
   "cell_type": "code",
   "execution_count": 289,
   "metadata": {
    "collapsed": false
   },
   "outputs": [
    {
     "name": "stdout",
     "output_type": "stream",
     "text": [
      "[0 1 1 1]\n"
     ]
    }
   ],
   "source": [
    "t2=temp[:4]\n",
    "print(t2)"
   ]
  },
  {
   "cell_type": "code",
   "execution_count": 290,
   "metadata": {
    "collapsed": false
   },
   "outputs": [
    {
     "name": "stdout",
     "output_type": "stream",
     "text": [
      "[0 1 0 0]\n"
     ]
    }
   ],
   "source": [
    "r2=rtn[:4]\n",
    "print(r2)"
   ]
  },
  {
   "cell_type": "code",
   "execution_count": 291,
   "metadata": {
    "collapsed": false
   },
   "outputs": [],
   "source": [
    "o22 =np.argwhere(o2==1)\n",
    "#len(o11)\n",
    "\n",
    "t22 =np.argwhere(t2==1)\n",
    "#print(t11)\n",
    "#len(t11)\n",
    "\n",
    "r22 =np.argwhere(r2==1)\n",
    "#print(r11)\n",
    "o222 = np.argwhere(out==1)\n",
    "t222 = np.argwhere(temp==1)\n",
    "r222 = np.argwhere(rtn==1)\n",
    "#len(r222)"
   ]
  },
  {
   "cell_type": "code",
   "execution_count": 292,
   "metadata": {
    "collapsed": false
   },
   "outputs": [
    {
     "data": {
      "text/plain": [
       "3"
      ]
     },
     "execution_count": 292,
     "metadata": {},
     "output_type": "execute_result"
    }
   ],
   "source": [
    "t22.size"
   ]
  },
  {
   "cell_type": "code",
   "execution_count": 293,
   "metadata": {
    "collapsed": false
   },
   "outputs": [
    {
     "name": "stdout",
     "output_type": "stream",
     "text": [
      "P( C = no | x )  =  0.3402777777777778\n"
     ]
    }
   ],
   "source": [
    "C_no = ((o22.size/o2.size)*(t22.size/t2.size)*(r22.size/r2.size)*(c22.size/cot.size))/((o222.size/out.size)*(t222.size/temp.size)*(r222.size/rtn.size))\n",
    "print(\"P( C = no | x )  = \",C_no)"
   ]
  },
  {
   "cell_type": "raw",
   "metadata": {},
   "source": [
    "-----------------------------------------------"
   ]
  },
  {
   "cell_type": "code",
   "execution_count": 294,
   "metadata": {
    "collapsed": false
   },
   "outputs": [
    {
     "name": "stdout",
     "output_type": "stream",
     "text": [
      "Wear coat = no\n"
     ]
    }
   ],
   "source": [
    "if(C_no>C_yes):\n",
    "    print (\"Wear coat = no\")\n",
    "else:\n",
    "    print(\"Wear coat = yes\")"
   ]
  },
  {
   "cell_type": "code",
   "execution_count": null,
   "metadata": {
    "collapsed": true
   },
   "outputs": [],
   "source": []
  },
  {
   "cell_type": "markdown",
   "metadata": {},
   "source": [
    "problem: https://classroom.google.com/u/1/c/MTEyMzc3MzE1MTda"
   ]
  }
 ],
 "metadata": {
  "kernelspec": {
   "display_name": "Python 3",
   "language": "python",
   "name": "python3"
  },
  "language_info": {
   "codemirror_mode": {
    "name": "ipython",
    "version": 3
   },
   "file_extension": ".py",
   "mimetype": "text/x-python",
   "name": "python",
   "nbconvert_exporter": "python",
   "pygments_lexer": "ipython3",
   "version": "3.6.0"
  }
 },
 "nbformat": 4,
 "nbformat_minor": 2
}
